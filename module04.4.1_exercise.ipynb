{
 "cells": [
  {
   "cell_type": "markdown",
   "metadata": {},
   "source": [
    "# torch.nn.Linear functional"
   ]
  },
  {
   "cell_type": "code",
   "execution_count": 12,
   "metadata": {},
   "outputs": [
    {
     "name": "stdout",
     "output_type": "stream",
     "text": [
      "x@w + b =  tensor([[381., 682., 983.]])\n",
      "fc_out =  tensor([[381., 682., 983.]], grad_fn=<AddmmBackward0>)\n",
      "fc_out_alternative shape:  torch.Size([1, 3])\n",
      "fc_out shape:  torch.Size([1, 3])\n",
      "tensor([[True, True, True]])\n"
     ]
    }
   ],
   "source": [
    "import torch\n",
    "\n",
    "# Сперва создадим тензор x:\n",
    "x = torch.tensor([[10., 20.]])\n",
    "\n",
    "# Оригинальный полносвязный слой с 2-мя входами и 3-мя нейронами (выходами):\n",
    "fc = torch.nn.Linear(2, 3)\n",
    "\n",
    "# Веса fc-слоя хранятся в fc.weight, а bias'ы соответственно в fc.bias\n",
    "# fc.weight и fc.bias по умолчанию инициализируются случайными числами\n",
    "\n",
    "# Давайте проставим свои значения в веса и bias'ы:\n",
    "w = torch.tensor([[11., 12.], [21., 22.], [31., 32]])\n",
    "fc.weight.data = w\n",
    "\n",
    "b = torch.tensor([[31., 32., 33.]])\n",
    "fc.bias.data = b\n",
    "\n",
    "# Получим выход fc-слоя:\n",
    "fc_out = fc(x)\n",
    "print ('x@w + b = ', (x@w.T + b))\n",
    "print ('fc_out = ', fc_out)\n",
    "# print ('transposed w shape: ', (torch.transpose(w,0,1)).shape)\n",
    "# Попробуем теперь получить аналогичные выходы с помощью матричного перемножения:\n",
    "# fc_out_alternative =  x * w + torch.transpose(b,0,1)  #w^T + b\n",
    "fc_out_alternative =  x @ w.T + b  #w^T + b\n",
    "\n",
    "print ('fc_out_alternative shape: ', fc_out_alternative.shape)\n",
    "print ('fc_out shape: ', fc_out.shape)\n",
    "# Проверка осуществляется автоматически вызовом функции\n",
    "print(fc_out == fc_out_alternative)\n",
    "# (раскомментируйте, если решаете задачу локально)"
   ]
  },
  {
   "cell_type": "code",
   "execution_count": 15,
   "metadata": {},
   "outputs": [
    {
     "name": "stdout",
     "output_type": "stream",
     "text": [
      "fc_weight_grad: tensor([[10., 20.],\n",
      "        [10., 20.],\n",
      "        [10., 20.]])\n",
      "our_weight_grad: tensor([[10., 20.],\n",
      "        [10., 20.],\n",
      "        [10., 20.]])\n",
      "fc_bias_grad: tensor([[1., 1., 1.]])\n",
      "our_bias_grad: tensor([[1., 1., 1.]])\n"
     ]
    }
   ],
   "source": [
    "import torch\n",
    "\n",
    "# Сперва создадим тензор x:\n",
    "x = torch.tensor([[10., 20.]])\n",
    "\n",
    "# Оригинальный полносвязный слой с 2-мя входами и 3-мя нейронами (выходами):\n",
    "fc = torch.nn.Linear(2, 3)\n",
    "\n",
    "# Веса fc-слоя хранятся в fc.weight, а bias'ы соответственно в fc.bias\n",
    "# fc.weight и fc.bias по умолчанию инициализируются случайными числами\n",
    "\n",
    "# Давайте проставим свои значения в веса и bias'ы:\n",
    "w = torch.tensor([[11., 12.], [21., 22.], [31., 32]])\n",
    "fc.weight.data = w\n",
    "\n",
    "b = torch.tensor([[31., 32., 33.]])\n",
    "fc.bias.data = b\n",
    "\n",
    "# Получим выход fc-слоя:\n",
    "fc_out = fc(x)\n",
    "# Просуммируем выход fc-слоя, чтобы получить скаляр:\n",
    "fc_out_summed = fc_out.sum()\n",
    "\n",
    "# Посчитаем градиенты формулы fc_out_summed:\n",
    "fc_out_summed.backward()\n",
    "weight_grad = fc.weight.grad\n",
    "bias_grad = fc.bias.grad\n",
    "\n",
    "# Ok, теперь воспроизведем вычисления выше но без fc-слоя:\n",
    "# Проставим, что у \"w\" и \"b\" нужно вычислять градиенты (для fc-слоя это произошло автоматически):\n",
    "w.requires_grad_(True)\n",
    "b.requires_grad_(True)\n",
    "\n",
    "# Получим выход нашей формулы:\n",
    "our_formula = x @ w.T + b # SUM{x * w^T + b}\n",
    "\n",
    "# Сделайте backward для нашей формулы:\n",
    "our_formula_summ = our_formula.sum()\n",
    "our_formula_summ.backward()\n",
    "our_weight_grad = fc.weight.grad\n",
    "our_bias_grad = fc.bias.grad\n",
    "\n",
    "# Проверка осуществляется автоматически, вызовом функций:\n",
    "print('fc_weight_grad:', weight_grad)\n",
    "print('our_weight_grad:', w.grad)\n",
    "print('fc_bias_grad:', bias_grad)\n",
    "print('our_bias_grad:', b.grad)\n",
    "# (раскомментируйте, если работаете над задачей локально)"
   ]
  }
 ],
 "metadata": {
  "accelerator": "GPU",
  "colab": {
   "collapsed_sections": [],
   "name": "Lesson 5 Digits Recognition Video.ipynb",
   "provenance": [],
   "version": "0.3.2"
  },
  "kernelspec": {
   "display_name": "Python 3",
   "language": "python",
   "name": "python3"
  },
  "language_info": {
   "codemirror_mode": {
    "name": "ipython",
    "version": 3
   },
   "file_extension": ".py",
   "mimetype": "text/x-python",
   "name": "python",
   "nbconvert_exporter": "python",
   "pygments_lexer": "ipython3",
   "version": "3.9.12"
  }
 },
 "nbformat": 4,
 "nbformat_minor": 1
}
