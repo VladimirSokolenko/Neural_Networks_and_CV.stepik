{
 "cells": [
  {
   "cell_type": "code",
   "execution_count": 1,
   "metadata": {},
   "outputs": [
    {
     "name": "stdout",
     "output_type": "stream",
     "text": [
      "True\n"
     ]
    }
   ],
   "source": [
    "import torch\n",
    "import torch.nn as nn\n",
    "\n",
    "input_size = 7\n",
    "batch_size = 5\n",
    "input_tensor = torch.randn(batch_size, input_size, dtype=torch.float)\n",
    "\n",
    "eps = 1e-3\n",
    "\n",
    "def custom_batch_norm1d(input_tensor, weight, bias, eps):\n",
    "    gamma = weight\n",
    "    beta = bias\n",
    "    N = input_tensor.shape[0]\n",
    "    normed_tensor = torch.zeros(input_tensor.shape)\n",
    "    for i in range(input_tensor.shape[1]):\n",
    "        E = torch.sum(input_tensor[:,i])/N\n",
    "        sigma_square = torch.sum((input_tensor[:,i]-E)**2)/N\n",
    "        z = (input_tensor[:,i]-E)/torch.sqrt(sigma_square + eps)\n",
    "        normed_tensor[:,i] = z*gamma[i] + beta[i]\n",
    "    return normed_tensor\n",
    "\n",
    "# Проверка происходит автоматически вызовом следующего кода\n",
    "# (раскомментируйте для самостоятельной проверки,\n",
    "#  в коде для сдачи задания должно быть закомментировано):\n",
    "batch_norm = nn.BatchNorm1d(input_size, eps=eps)\n",
    "batch_norm.bias.data = torch.randn(input_size, dtype=torch.float)\n",
    "batch_norm.weight.data = torch.randn(input_size, dtype=torch.float)\n",
    "batch_norm_out = batch_norm(input_tensor)\n",
    "custom_batch_norm_out = custom_batch_norm1d(input_tensor, batch_norm.weight.data, batch_norm.bias.data, eps)\n",
    "print(torch.allclose(batch_norm_out, custom_batch_norm_out, 1e-3) \\\n",
    "      and batch_norm_out.shape == custom_batch_norm_out.shape)"
   ]
  }
 ],
 "metadata": {
  "accelerator": "GPU",
  "colab": {
   "collapsed_sections": [],
   "name": "Lesson 6 Digits Recognition Convolutional Video.ipynb",
   "provenance": [],
   "version": "0.3.2"
  },
  "kernelspec": {
   "display_name": "Python 3",
   "language": "python",
   "name": "python3"
  },
  "language_info": {
   "codemirror_mode": {
    "name": "ipython",
    "version": 3
   },
   "file_extension": ".py",
   "mimetype": "text/x-python",
   "name": "python",
   "nbconvert_exporter": "python",
   "pygments_lexer": "ipython3",
   "version": "3.11.5"
  }
 },
 "nbformat": 4,
 "nbformat_minor": 1
}
