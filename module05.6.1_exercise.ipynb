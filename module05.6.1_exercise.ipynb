{
 "cells": [
  {
   "cell_type": "code",
   "execution_count": 5,
   "metadata": {},
   "outputs": [
    {
     "name": "stdout",
     "output_type": "stream",
     "text": [
      "torch.Size([4, 10, 8, 16])\n",
      "torch.Size([4, 10, 8, 16])\n",
      "torch.Size([4, 10, 8, 16])\n",
      "torch.Size([4, 10, 8, 16])\n",
      "torch.Size([4, 10, 8, 16])\n",
      "torch.Size([4, 10, 22, 30])\n",
      "torch.Size([4, 10, 7, 15])\n",
      "torch.Size([4, 10, 9, 17])\n"
     ]
    }
   ],
   "source": [
    "import torch\n",
    "\n",
    "N = 4\n",
    "C = 3\n",
    "C_out = 10\n",
    "H = 8\n",
    "W = 16\n",
    "\n",
    "x = torch.ones((N, C, H, W))\n",
    "\n",
    "# torch.Size([4, 10, 8, 16])\n",
    "out1 = torch.nn.Conv2d(C, C_out, kernel_size=(3, 3), padding=1)(x)\n",
    "print(out1.shape) # для самопроверки\n",
    "\n",
    "# torch.Size([4, 10, 8, 16])\n",
    "out2 = torch.nn.Conv2d(C, C_out, kernel_size=(5, 5), padding=2)(x)\n",
    "print(out2.shape) # для самопроверки\n",
    "\n",
    "# torch.Size([4, 10, 8, 16])\n",
    "out3 = torch.nn.Conv2d(C, C_out, kernel_size=(7, 7), padding=3)(x)\n",
    "print(out3.shape) # для самопроверки\n",
    "\n",
    "# torch.Size([4, 10, 8, 16])\n",
    "out4 = torch.nn.Conv2d(C, C_out, kernel_size=(9, 9), padding=4)(x)\n",
    "print(out4.shape) # для самопроверки\n",
    "\n",
    "# torch.Size([4, 10, 8, 16])\n",
    "out5 = torch.nn.Conv2d(C, C_out, kernel_size=(3, 5), padding=(1,2))(x)\n",
    "print(out5.shape) # для самопроверки\n",
    "\n",
    "# torch.Size([4, 10, 22, 30])\n",
    "out6 = torch.nn.Conv2d(C, C_out, kernel_size=(3, 3), padding=8)(x)\n",
    "print(out6.shape) # для самопроверки\n",
    "\n",
    "# torch.Size([4, 10, 7, 15])\n",
    "out7 = torch.nn.Conv2d(C, C_out, kernel_size=(4, 4), padding=1)(x)\n",
    "print(out7.shape) # для самопроверки\n",
    "\n",
    "# torch.Size([4, 10, 9, 17])\n",
    "out8 = torch.nn.Conv2d(C, C_out, kernel_size=(2, 2), padding=1)(x)\n",
    "print(out8.shape) # для самопроверки"
   ]
  }
 ],
 "metadata": {
  "accelerator": "GPU",
  "colab": {
   "collapsed_sections": [],
   "name": "Lesson 6 Digits Recognition Convolutional Video.ipynb",
   "provenance": [],
   "version": "0.3.2"
  },
  "kernelspec": {
   "display_name": "Python 3",
   "language": "python",
   "name": "python3"
  },
  "language_info": {
   "codemirror_mode": {
    "name": "ipython",
    "version": 3
   },
   "file_extension": ".py",
   "mimetype": "text/x-python",
   "name": "python",
   "nbconvert_exporter": "python",
   "pygments_lexer": "ipython3",
   "version": "3.11.5"
  }
 },
 "nbformat": 4,
 "nbformat_minor": 1
}
