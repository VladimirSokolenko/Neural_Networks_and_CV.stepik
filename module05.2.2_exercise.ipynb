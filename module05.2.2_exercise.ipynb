{
 "cells": [
  {
   "cell_type": "code",
   "execution_count": 34,
   "metadata": {},
   "outputs": [
    {
     "name": "stdout",
     "output_type": "stream",
     "text": [
      "True\n",
      "[2, 10, 8.0, 8.0]\n",
      "True\n",
      "[2, 10, 4.0, 4.0]\n",
      "True\n",
      "[2, 10, 3.0, 3.0]\n"
     ]
    }
   ],
   "source": [
    "import numpy as np\n",
    "\n",
    "\n",
    "def calc_out_shape(input_matrix_shape, out_channels, kernel_size, stride, padding):\n",
    "    # напишите тут код, вычисляющий выходную размерность\n",
    "    # out_shape = []\n",
    "    out_shape = [input_matrix_shape[0],out_channels,np.floor(1 + (input_matrix_shape[2]+2*padding-kernel_size)/(stride)),\n",
    "                 np.floor(1+(input_matrix_shape[3]+2*padding-kernel_size)/(stride))]\n",
    "    # out_shape.append((input_matrix_shape[0]*input_matrix_shape[1]*input_matrix_shape[2]+padding)/(kernel_size[0]/stride))\n",
    "    # out_shape.append((input_matrix_shape[0]*input_matrix_shape[1]*input_matrix_shape[3]+padding)/(kernel_size[0]/stride))\n",
    "\n",
    "    return out_shape\n",
    "\n",
    "\n",
    "print(np.array_equal(\n",
    "    calc_out_shape(input_matrix_shape=[2, 3, 10, 10],\n",
    "                   out_channels=10,\n",
    "                   kernel_size=3,\n",
    "                   stride=1,\n",
    "                   padding=0),\n",
    "    [2, 10, 8, 8]))\n",
    "print(calc_out_shape(input_matrix_shape=[2, 3, 10, 10],\n",
    "                   out_channels=10,\n",
    "                   kernel_size=3,\n",
    "                   stride=1,\n",
    "                   padding=0))\n",
    "\n",
    "print(np.array_equal(\n",
    "    calc_out_shape(input_matrix_shape=[2, 3, 10, 10],\n",
    "                   out_channels=10,\n",
    "                   kernel_size=3,\n",
    "                   stride=2,\n",
    "                   padding=0),\n",
    "    [2, 10, 4, 4]))\n",
    "print(calc_out_shape(input_matrix_shape=[2, 3, 10, 10],\n",
    "                   out_channels=10,\n",
    "                   kernel_size=3,\n",
    "                   stride=2,\n",
    "                   padding=0))\n",
    "\n",
    "print(np.array_equal(\n",
    "    calc_out_shape(input_matrix_shape=[2, 3, 10, 10],\n",
    "                   out_channels=10,\n",
    "                   kernel_size=3,\n",
    "                   stride=3,\n",
    "                   padding=0),\n",
    "    [2, 10, 3, 3]))\n",
    "\n",
    "print(calc_out_shape(input_matrix_shape=[2, 3, 10, 10],\n",
    "                   out_channels=10,\n",
    "                   kernel_size=3,\n",
    "                   stride=3,\n",
    "                   padding=0))\n"
   ]
  }
 ],
 "metadata": {
  "kernelspec": {
   "display_name": "base",
   "language": "python",
   "name": "python3"
  },
  "language_info": {
   "codemirror_mode": {
    "name": "ipython",
    "version": 3
   },
   "file_extension": ".py",
   "mimetype": "text/x-python",
   "name": "python",
   "nbconvert_exporter": "python",
   "pygments_lexer": "ipython3",
   "version": "3.9.12"
  }
 },
 "nbformat": 4,
 "nbformat_minor": 2
}
